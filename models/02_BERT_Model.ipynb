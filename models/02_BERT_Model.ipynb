{
 "cells": [
  {
   "cell_type": "markdown",
   "metadata": {},
   "source": [
    "# BERT-based Multi-Label Classification Model\n",
    "\n",
    "This notebook implements a BERT-based model for multi-label classification of biomedical abstracts.\n",
    "**Task:** Predict if an abstract provides evidence for therapeutic efficacy, side effects, or mechanism of action.\n",
    "\n",
    "## Model: BioBERT or SciBERT with Multi-Label Classification Head\n",
    "## Comparison: Performance vs Baseline TF-IDF + LogisticRegression\n",
    "\n",
    "### Key Features:\n",
    "- Pre-trained biomedical BERT model\n",
    "- Multi-label classification with sigmoid activation\n",
    "- Attention weight analysis\n",
    "- Performance comparison with baseline"
   ]
  },
  {
   "cell_type": "code",
   "execution_count": null,
   "metadata": {},
   "outputs": [],
   "source": [
    "# Install required packages if not already installed\n",
    "# !pip install transformers torch torchvision torchaudio\n",
    "# !pip install scikit-learn pandas numpy matplotlib seaborn\n",
    "# !pip install tqdm"
   ]
  },
  {
   "cell_type": "code",
   "execution_count": 5,
   "metadata": {},
   "outputs": [
    {
     "name": "stdout",
     "output_type": "stream",
     "text": [
      "Using device: cuda\n"
     ]
    }
   ],
   "source": [
    "import pandas as pd\n",
    "import numpy as np\n",
    "import torch\n",
    "import torch.nn as nn\n",
    "import torch.optim as optim\n",
    "from torch.utils.data import Dataset, DataLoader\n",
    "from transformers import AutoTokenizer, AutoModel, get_linear_schedule_with_warmup\n",
    "from sklearn.model_selection import train_test_split\n",
    "from sklearn.metrics import classification_report, f1_score, hamming_loss, precision_score, recall_score\n",
    "import matplotlib.pyplot as plt\n",
    "import seaborn as sns\n",
    "from tqdm import tqdm\n",
    "import json\n",
    "import joblib\n",
    "from collections import defaultdict\n",
    "\n",
    "# Set random seeds for reproducibility\n",
    "torch.manual_seed(42)\n",
    "np.random.seed(42)\n",
    "import random\n",
    "random.seed(42)\n",
    "\n",
    "# Check if CUDA is available\n",
    "device = torch.device('cuda' if torch.cuda.is_available() else 'cpu')\n",
    "print(f\"Using device: {device}\")"
   ]
  },
  {
   "cell_type": "code",
   "execution_count": 6,
   "metadata": {},
   "outputs": [
    {
     "name": "stdout",
     "output_type": "stream",
     "text": [
      "Dataset shape: (598, 15)\n",
      "Columns: ['PMID', 'Title', 'Abstract', 'Journal', 'Year', 'Authors', 'Cleaned_Abstract', 'Categories', 'Research_Type', 'Diseases', 'Chemicals', 'Efficacy', 'Side_Effects', 'Mechanism', 'Has_Marketed_Drug']\n"
     ]
    },
    {
     "data": {
      "text/html": [
       "<div>\n",
       "<style scoped>\n",
       "    .dataframe tbody tr th:only-of-type {\n",
       "        vertical-align: middle;\n",
       "    }\n",
       "\n",
       "    .dataframe tbody tr th {\n",
       "        vertical-align: top;\n",
       "    }\n",
       "\n",
       "    .dataframe thead th {\n",
       "        text-align: right;\n",
       "    }\n",
       "</style>\n",
       "<table border=\"1\" class=\"dataframe\">\n",
       "  <thead>\n",
       "    <tr style=\"text-align: right;\">\n",
       "      <th></th>\n",
       "      <th>PMID</th>\n",
       "      <th>Title</th>\n",
       "      <th>Abstract</th>\n",
       "      <th>Journal</th>\n",
       "      <th>Year</th>\n",
       "      <th>Authors</th>\n",
       "      <th>Cleaned_Abstract</th>\n",
       "      <th>Categories</th>\n",
       "      <th>Research_Type</th>\n",
       "      <th>Diseases</th>\n",
       "      <th>Chemicals</th>\n",
       "      <th>Efficacy</th>\n",
       "      <th>Side_Effects</th>\n",
       "      <th>Mechanism</th>\n",
       "      <th>Has_Marketed_Drug</th>\n",
       "    </tr>\n",
       "  </thead>\n",
       "  <tbody>\n",
       "    <tr>\n",
       "      <th>0</th>\n",
       "      <td>40603982</td>\n",
       "      <td>Barbigerone attenuates 3-nitropropionic acid-i...</td>\n",
       "      <td>Huntington's Disease (HD), a neurodegenerative...</td>\n",
       "      <td>Scientific reports</td>\n",
       "      <td>2025.0</td>\n",
       "      <td>Sattam Khulaif Alenezi</td>\n",
       "      <td>huntington disease hd neurodegenerative diseas...</td>\n",
       "      <td>huntington's disease; hd; neurodegenerative di...</td>\n",
       "      <td>clinical_trial</td>\n",
       "      <td>huntington's disease; hd; neuroinflammation; m...</td>\n",
       "      <td>malondialdehyde; mda; nitric oxide; glutathion...</td>\n",
       "      <td>1</td>\n",
       "      <td>0</td>\n",
       "      <td>1</td>\n",
       "      <td>0</td>\n",
       "    </tr>\n",
       "    <tr>\n",
       "      <th>1</th>\n",
       "      <td>40590994</td>\n",
       "      <td>Comparative efficacy and safety of irreversibl...</td>\n",
       "      <td>Parkinson's disease (PD) is a progressive, neu...</td>\n",
       "      <td>Journal of neurology</td>\n",
       "      <td>2025.0</td>\n",
       "      <td>Marwah Bintay Khalid; Faizan Shahzad; Momina R...</td>\n",
       "      <td>parkinson disease pd progressive neurodegenera...</td>\n",
       "      <td>parkinson's disease; pd; parkinson's disease r...</td>\n",
       "      <td>clinical_trial; review</td>\n",
       "      <td>parkinsons disease; parkinson's disease</td>\n",
       "      <td>safinamide; rasagiline; smd</td>\n",
       "      <td>1</td>\n",
       "      <td>1</td>\n",
       "      <td>1</td>\n",
       "      <td>1</td>\n",
       "    </tr>\n",
       "    <tr>\n",
       "      <th>2</th>\n",
       "      <td>40577046</td>\n",
       "      <td>Corticospinal Intermittent Theta Burst Stimula...</td>\n",
       "      <td>Intermittent theta burst stimulation (iTBS) is...</td>\n",
       "      <td>JMIR research protocols</td>\n",
       "      <td>2025.0</td>\n",
       "      <td>Deeksha Patel; Rohit Banerjee; Kamran Farooque...</td>\n",
       "      <td>intermittent theta burst stimulation itbs noni...</td>\n",
       "      <td>cord injury; motor and sensory dysfunction; as...</td>\n",
       "      <td>clinical_trial</td>\n",
       "      <td>cord injury; motor deficit; asia; pain; anxiet...</td>\n",
       "      <td>NaN</td>\n",
       "      <td>1</td>\n",
       "      <td>0</td>\n",
       "      <td>1</td>\n",
       "      <td>0</td>\n",
       "    </tr>\n",
       "    <tr>\n",
       "      <th>3</th>\n",
       "      <td>40572513</td>\n",
       "      <td>Advances in the Exploration of Coordination Co...</td>\n",
       "      <td>Alzheimer's disease (AD) is a progressive neur...</td>\n",
       "      <td>Molecules (Basel, Switzerland)</td>\n",
       "      <td>2025.0</td>\n",
       "      <td>Jesús Antonio Cruz-Navarro; Luis Humberto Delg...</td>\n",
       "      <td>alzheimer disease ad progressive neurodegenera...</td>\n",
       "      <td>alzheimer's disease; ad; neurodegenerative dis...</td>\n",
       "      <td>review</td>\n",
       "      <td>alzheimers disease; memory disorder; amyloid-b...</td>\n",
       "      <td>NaN</td>\n",
       "      <td>1</td>\n",
       "      <td>1</td>\n",
       "      <td>1</td>\n",
       "      <td>0</td>\n",
       "    </tr>\n",
       "    <tr>\n",
       "      <th>4</th>\n",
       "      <td>40567829</td>\n",
       "      <td>How Do Patients' Fear Prediction and Fear Expe...</td>\n",
       "      <td>Expectancy violation has been proposed as a po...</td>\n",
       "      <td>Depression and anxiety</td>\n",
       "      <td>2025.0</td>\n",
       "      <td>Marina Hilleke; Thomas Lang; Sylvia Helbig-Lan...</td>\n",
       "      <td>expectancy violation propose potential core me...</td>\n",
       "      <td>anxiety; panic disorder; agoraphobia; panic; c...</td>\n",
       "      <td>clinical_trial</td>\n",
       "      <td>anxiety; panic attack; agoraphobia</td>\n",
       "      <td>NaN</td>\n",
       "      <td>1</td>\n",
       "      <td>1</td>\n",
       "      <td>1</td>\n",
       "      <td>0</td>\n",
       "    </tr>\n",
       "  </tbody>\n",
       "</table>\n",
       "</div>"
      ],
      "text/plain": [
       "       PMID                                              Title  \\\n",
       "0  40603982  Barbigerone attenuates 3-nitropropionic acid-i...   \n",
       "1  40590994  Comparative efficacy and safety of irreversibl...   \n",
       "2  40577046  Corticospinal Intermittent Theta Burst Stimula...   \n",
       "3  40572513  Advances in the Exploration of Coordination Co...   \n",
       "4  40567829  How Do Patients' Fear Prediction and Fear Expe...   \n",
       "\n",
       "                                            Abstract  \\\n",
       "0  Huntington's Disease (HD), a neurodegenerative...   \n",
       "1  Parkinson's disease (PD) is a progressive, neu...   \n",
       "2  Intermittent theta burst stimulation (iTBS) is...   \n",
       "3  Alzheimer's disease (AD) is a progressive neur...   \n",
       "4  Expectancy violation has been proposed as a po...   \n",
       "\n",
       "                          Journal    Year  \\\n",
       "0              Scientific reports  2025.0   \n",
       "1            Journal of neurology  2025.0   \n",
       "2         JMIR research protocols  2025.0   \n",
       "3  Molecules (Basel, Switzerland)  2025.0   \n",
       "4          Depression and anxiety  2025.0   \n",
       "\n",
       "                                             Authors  \\\n",
       "0                             Sattam Khulaif Alenezi   \n",
       "1  Marwah Bintay Khalid; Faizan Shahzad; Momina R...   \n",
       "2  Deeksha Patel; Rohit Banerjee; Kamran Farooque...   \n",
       "3  Jesús Antonio Cruz-Navarro; Luis Humberto Delg...   \n",
       "4  Marina Hilleke; Thomas Lang; Sylvia Helbig-Lan...   \n",
       "\n",
       "                                    Cleaned_Abstract  \\\n",
       "0  huntington disease hd neurodegenerative diseas...   \n",
       "1  parkinson disease pd progressive neurodegenera...   \n",
       "2  intermittent theta burst stimulation itbs noni...   \n",
       "3  alzheimer disease ad progressive neurodegenera...   \n",
       "4  expectancy violation propose potential core me...   \n",
       "\n",
       "                                          Categories           Research_Type  \\\n",
       "0  huntington's disease; hd; neurodegenerative di...          clinical_trial   \n",
       "1  parkinson's disease; pd; parkinson's disease r...  clinical_trial; review   \n",
       "2  cord injury; motor and sensory dysfunction; as...          clinical_trial   \n",
       "3  alzheimer's disease; ad; neurodegenerative dis...                  review   \n",
       "4  anxiety; panic disorder; agoraphobia; panic; c...          clinical_trial   \n",
       "\n",
       "                                            Diseases  \\\n",
       "0  huntington's disease; hd; neuroinflammation; m...   \n",
       "1            parkinsons disease; parkinson's disease   \n",
       "2  cord injury; motor deficit; asia; pain; anxiet...   \n",
       "3  alzheimers disease; memory disorder; amyloid-b...   \n",
       "4                 anxiety; panic attack; agoraphobia   \n",
       "\n",
       "                                           Chemicals  Efficacy  Side_Effects  \\\n",
       "0  malondialdehyde; mda; nitric oxide; glutathion...         1             0   \n",
       "1                        safinamide; rasagiline; smd         1             1   \n",
       "2                                                NaN         1             0   \n",
       "3                                                NaN         1             1   \n",
       "4                                                NaN         1             1   \n",
       "\n",
       "   Mechanism  Has_Marketed_Drug  \n",
       "0          1                  0  \n",
       "1          1                  1  \n",
       "2          1                  0  \n",
       "3          1                  0  \n",
       "4          1                  0  "
      ]
     },
     "execution_count": 6,
     "metadata": {},
     "output_type": "execute_result"
    }
   ],
   "source": [
    "# Load the prepared data\n",
    "df = pd.read_csv('../preprocessing/cleaned_for_modeling.csv')\n",
    "print(f\"Dataset shape: {df.shape}\")\n",
    "print(f\"Columns: {list(df.columns)}\")\n",
    "df.head()"
   ]
  },
  {
   "cell_type": "code",
   "execution_count": 7,
   "metadata": {},
   "outputs": [
    {
     "name": "stdout",
     "output_type": "stream",
     "text": [
      "Label Distribution:\n",
      "Efficacy: 584 (97.7%)\n",
      "Side_Effects: 371 (62.0%)\n",
      "Mechanism: 440 (73.6%)\n",
      "\n",
      "Abstracts with marketed drugs: 119 (19.9%)\n",
      "\n",
      "Missing values:\n",
      "Cleaned_Abstract     0\n",
      "Has_Marketed_Drug    0\n",
      "Efficacy             0\n",
      "Side_Effects         0\n",
      "Mechanism            0\n",
      "dtype: int64\n"
     ]
    }
   ],
   "source": [
    "# Check label distribution\n",
    "print(\"Label Distribution:\")\n",
    "print(f\"Efficacy: {df['Efficacy'].sum()} ({df['Efficacy'].mean()*100:.1f}%)\")\n",
    "print(f\"Side_Effects: {df['Side_Effects'].sum()} ({df['Side_Effects'].mean()*100:.1f}%)\")\n",
    "print(f\"Mechanism: {df['Mechanism'].sum()} ({df['Mechanism'].mean()*100:.1f}%)\")\n",
    "\n",
    "# Check marketed drug feature\n",
    "print(f\"\\nAbstracts with marketed drugs: {df['Has_Marketed_Drug'].sum()} ({df['Has_Marketed_Drug'].mean()*100:.1f}%)\")\n",
    "\n",
    "# Check for missing values\n",
    "print(f\"\\nMissing values:\")\n",
    "print(df[['Cleaned_Abstract', 'Has_Marketed_Drug', 'Efficacy', 'Side_Effects', 'Mechanism']].isnull().sum())"
   ]
  },
  {
   "cell_type": "code",
   "execution_count": 8,
   "metadata": {},
   "outputs": [
    {
     "name": "stdout",
     "output_type": "stream",
     "text": [
      "Text features shape: (598,)\n",
      "Drug features shape: (598,)\n",
      "Labels shape: (598, 3)\n"
     ]
    }
   ],
   "source": [
    "# Prepare features and labels\n",
    "X_text = df['Cleaned_Abstract'].fillna('')\n",
    "X_drug = df['Has_Marketed_Drug'].values\n",
    "y = df[['Efficacy', 'Side_Effects', 'Mechanism']].values\n",
    "\n",
    "print(f\"Text features shape: {X_text.shape}\")\n",
    "print(f\"Drug features shape: {X_drug.shape}\")\n",
    "print(f\"Labels shape: {y.shape}\")"
   ]
  },
  {
   "cell_type": "code",
   "execution_count": 9,
   "metadata": {},
   "outputs": [
    {
     "name": "stdout",
     "output_type": "stream",
     "text": [
      "Training set size: 478\n",
      "Test set size: 120\n"
     ]
    }
   ],
   "source": [
    "# Split the data (same as baseline for fair comparison)\n",
    "X_text_train, X_text_test, X_drug_train, X_drug_test, y_train, y_test = train_test_split(\n",
    "    X_text, X_drug, y, test_size=0.2, random_state=42, stratify=None\n",
    ")\n",
    "\n",
    "print(f\"Training set size: {len(X_text_train)}\")\n",
    "print(f\"Test set size: {len(X_text_test)}\")"
   ]
  },
  {
   "cell_type": "code",
   "execution_count": 10,
   "metadata": {},
   "outputs": [
    {
     "name": "stdout",
     "output_type": "stream",
     "text": [
      "Loading model: microsoft/BiomedNLP-PubMedBERT-base-uncased-abstract\n"
     ]
    },
    {
     "name": "stderr",
     "output_type": "stream",
     "text": [
      "2025-07-04 21:07:20.937406: E external/local_xla/xla/stream_executor/cuda/cuda_fft.cc:467] Unable to register cuFFT factory: Attempting to register factory for plugin cuFFT when one has already been registered\n",
      "WARNING: All log messages before absl::InitializeLog() is called are written to STDERR\n",
      "E0000 00:00:1751659641.048492  277049 cuda_dnn.cc:8579] Unable to register cuDNN factory: Attempting to register factory for plugin cuDNN when one has already been registered\n",
      "E0000 00:00:1751659641.068508  277049 cuda_blas.cc:1407] Unable to register cuBLAS factory: Attempting to register factory for plugin cuBLAS when one has already been registered\n",
      "W0000 00:00:1751659641.307341  277049 computation_placer.cc:177] computation placer already registered. Please check linkage and avoid linking the same target more than once.\n",
      "W0000 00:00:1751659641.307362  277049 computation_placer.cc:177] computation placer already registered. Please check linkage and avoid linking the same target more than once.\n",
      "W0000 00:00:1751659641.307364  277049 computation_placer.cc:177] computation placer already registered. Please check linkage and avoid linking the same target more than once.\n",
      "W0000 00:00:1751659641.307366  277049 computation_placer.cc:177] computation placer already registered. Please check linkage and avoid linking the same target more than once.\n",
      "2025-07-04 21:07:21.326421: I tensorflow/core/platform/cpu_feature_guard.cc:210] This TensorFlow binary is optimized to use available CPU instructions in performance-critical operations.\n",
      "To enable the following instructions: AVX2 FMA, in other operations, rebuild TensorFlow with the appropriate compiler flags.\n"
     ]
    },
    {
     "name": "stdout",
     "output_type": "stream",
     "text": [
      "Tokenizer vocab size: 28895\n",
      "Model hidden size: 768\n"
     ]
    }
   ],
   "source": [
    "# Choose BERT model - try different options\n",
    "MODEL_NAME = \"microsoft/BiomedNLP-PubMedBERT-base-uncased-abstract\"  # Good for biomedical abstracts\n",
    "\n",
    "# Alternative models to try:\n",
    "# \"allenai/scibert_scivocab_uncased\"  # SciBERT\n",
    "# \"dmis-lab/biobert-base-cased-v1.2\"  # BioBERT\n",
    "# \"microsoft/BiomedNLP-PubMedBERT-base-uncased-abstract\"  # PubMedBERT (recommended)\n",
    "\n",
    "print(f\"Loading model: {MODEL_NAME}\")\n",
    "tokenizer = AutoTokenizer.from_pretrained(MODEL_NAME)\n",
    "bert_model = AutoModel.from_pretrained(MODEL_NAME)\n",
    "\n",
    "# Check if tokenizer has padding token\n",
    "if tokenizer.pad_token is None:\n",
    "    tokenizer.pad_token = tokenizer.eos_token\n",
    "\n",
    "print(f\"Tokenizer vocab size: {tokenizer.vocab_size}\")\n",
    "print(f\"Model hidden size: {bert_model.config.hidden_size}\")"
   ]
  },
  {
   "cell_type": "code",
   "execution_count": 11,
   "metadata": {},
   "outputs": [],
   "source": [
    "# Custom Dataset class for BERT\n",
    "class BiomedicalDataset(Dataset):\n",
    "    def __init__(self, texts, labels, drug_features, tokenizer, max_length=512):\n",
    "        self.texts = texts\n",
    "        self.labels = labels\n",
    "        self.drug_features = drug_features\n",
    "        self.tokenizer = tokenizer\n",
    "        self.max_length = max_length\n",
    "    \n",
    "    def __len__(self):\n",
    "        return len(self.texts)\n",
    "    \n",
    "    def __getitem__(self, idx):\n",
    "        text = str(self.texts.iloc[idx])\n",
    "        label = self.labels[idx]\n",
    "        drug_feature = self.drug_features[idx]\n",
    "        \n",
    "        # Tokenize text\n",
    "        encoding = self.tokenizer(\n",
    "            text,\n",
    "            truncation=True,\n",
    "            padding='max_length',\n",
    "            max_length=self.max_length,\n",
    "            return_tensors='pt'\n",
    "        )\n",
    "        \n",
    "        return {\n",
    "            'input_ids': encoding['input_ids'].flatten(),\n",
    "            'attention_mask': encoding['attention_mask'].flatten(),\n",
    "            'labels': torch.FloatTensor(label),\n",
    "            'drug_feature': torch.FloatTensor([drug_feature])\n",
    "        }"
   ]
  },
  {
   "cell_type": "code",
   "execution_count": 12,
   "metadata": {},
   "outputs": [
    {
     "name": "stdout",
     "output_type": "stream",
     "text": [
      "Model parameters: 109,484,550\n"
     ]
    }
   ],
   "source": [
    "# BERT model with multi-label classification head\n",
    "class BiomedicalBERTClassifier(nn.Module):\n",
    "    def __init__(self, bert_model, num_labels=3, dropout=0.1):\n",
    "        super(BiomedicalBERTClassifier, self).__init__()\n",
    "        self.bert = bert_model\n",
    "        self.dropout = nn.Dropout(dropout)\n",
    "        self.classifier = nn.Linear(bert_model.config.hidden_size + 1, num_labels)  # +1 for drug feature\n",
    "        \n",
    "    def forward(self, input_ids, attention_mask, drug_feature):\n",
    "        # Get BERT outputs\n",
    "        outputs = self.bert(input_ids=input_ids, attention_mask=attention_mask)\n",
    "        pooled_output = outputs.pooler_output  # Use [CLS] token representation\n",
    "        \n",
    "        # Concatenate with drug feature\n",
    "        combined_features = torch.cat([pooled_output, drug_feature], dim=1)\n",
    "        \n",
    "        # Apply dropout and classification\n",
    "        pooled_output = self.dropout(combined_features)\n",
    "        logits = self.classifier(pooled_output)\n",
    "        \n",
    "        return logits\n",
    "\n",
    "# Initialize model\n",
    "model = BiomedicalBERTClassifier(bert_model, num_labels=3)\n",
    "model.to(device)\n",
    "print(f\"Model parameters: {sum(p.numel() for p in model.parameters()):,}\")"
   ]
  },
  {
   "cell_type": "code",
   "execution_count": 13,
   "metadata": {},
   "outputs": [
    {
     "name": "stdout",
     "output_type": "stream",
     "text": [
      "Training batches: 60\n",
      "Test batches: 15\n"
     ]
    }
   ],
   "source": [
    "# Create datasets and dataloaders\n",
    "MAX_LENGTH = 512\n",
    "BATCH_SIZE = 8  # Smaller batch size for BERT\n",
    "\n",
    "# Create datasets\n",
    "train_dataset = BiomedicalDataset(X_text_train, y_train, X_drug_train, tokenizer, MAX_LENGTH)\n",
    "test_dataset = BiomedicalDataset(X_text_test, y_test, X_drug_test, tokenizer, MAX_LENGTH)\n",
    "\n",
    "# Create dataloaders\n",
    "train_loader = DataLoader(train_dataset, batch_size=BATCH_SIZE, shuffle=True)\n",
    "test_loader = DataLoader(test_dataset, batch_size=BATCH_SIZE, shuffle=False)\n",
    "\n",
    "print(f\"Training batches: {len(train_loader)}\")\n",
    "print(f\"Test batches: {len(test_loader)}\")"
   ]
  },
  {
   "cell_type": "code",
   "execution_count": 14,
   "metadata": {},
   "outputs": [
    {
     "name": "stdout",
     "output_type": "stream",
     "text": [
      "Total training steps: 300\n",
      "Warmup steps: 100\n"
     ]
    }
   ],
   "source": [
    "# Training configuration\n",
    "LEARNING_RATE = 2e-5\n",
    "EPOCHS = 5\n",
    "WARMUP_STEPS = 100\n",
    "\n",
    "# Loss function for multi-label classification\n",
    "criterion = nn.BCEWithLogitsLoss()\n",
    "\n",
    "# Optimizer\n",
    "optimizer = optim.AdamW(model.parameters(), lr=LEARNING_RATE, eps=1e-8)\n",
    "\n",
    "# Learning rate scheduler\n",
    "total_steps = len(train_loader) * EPOCHS\n",
    "scheduler = get_linear_schedule_with_warmup(\n",
    "    optimizer, \n",
    "    num_warmup_steps=WARMUP_STEPS, \n",
    "    num_training_steps=total_steps\n",
    ")\n",
    "\n",
    "print(f\"Total training steps: {total_steps}\")\n",
    "print(f\"Warmup steps: {WARMUP_STEPS}\")"
   ]
  },
  {
   "cell_type": "code",
   "execution_count": 15,
   "metadata": {},
   "outputs": [],
   "source": [
    "# Training function\n",
    "def train_epoch(model, dataloader, optimizer, scheduler, criterion, device):\n",
    "    model.train()\n",
    "    total_loss = 0\n",
    "    \n",
    "    progress_bar = tqdm(dataloader, desc=\"Training\")\n",
    "    for batch in progress_bar:\n",
    "        input_ids = batch['input_ids'].to(device)\n",
    "        attention_mask = batch['attention_mask'].to(device)\n",
    "        labels = batch['labels'].to(device)\n",
    "        drug_feature = batch['drug_feature'].to(device)\n",
    "        \n",
    "        optimizer.zero_grad()\n",
    "        \n",
    "        outputs = model(input_ids=input_ids, attention_mask=attention_mask, drug_feature=drug_feature)\n",
    "        loss = criterion(outputs, labels)\n",
    "        \n",
    "        loss.backward()\n",
    "        torch.nn.utils.clip_grad_norm_(model.parameters(), 1.0)\n",
    "        optimizer.step()\n",
    "        scheduler.step()\n",
    "        \n",
    "        total_loss += loss.item()\n",
    "        progress_bar.set_postfix({'loss': f'{loss.item():.4f}'})\n",
    "    \n",
    "    return total_loss / len(dataloader)\n",
    "\n",
    "# Evaluation function\n",
    "def evaluate_model(model, dataloader, criterion, device):\n",
    "    model.eval()\n",
    "    total_loss = 0\n",
    "    all_predictions = []\n",
    "    all_labels = []\n",
    "    \n",
    "    with torch.no_grad():\n",
    "        for batch in tqdm(dataloader, desc=\"Evaluating\"):\n",
    "            input_ids = batch['input_ids'].to(device)\n",
    "            attention_mask = batch['attention_mask'].to(device)\n",
    "            labels = batch['labels'].to(device)\n",
    "            drug_feature = batch['drug_feature'].to(device)\n",
    "            \n",
    "            outputs = model(input_ids=input_ids, attention_mask=attention_mask, drug_feature=drug_feature)\n",
    "            loss = criterion(outputs, labels)\n",
    "            \n",
    "            total_loss += loss.item()\n",
    "            \n",
    "            # Convert logits to probabilities and then to binary predictions\n",
    "            probs = torch.sigmoid(outputs)\n",
    "            predictions = (probs > 0.5).float()\n",
    "            \n",
    "            all_predictions.extend(predictions.cpu().numpy())\n",
    "            all_labels.extend(labels.cpu().numpy())\n",
    "    \n",
    "    return total_loss / len(dataloader), np.array(all_predictions), np.array(all_labels)"
   ]
  },
  {
   "cell_type": "code",
   "execution_count": 16,
   "metadata": {},
   "outputs": [
    {
     "name": "stdout",
     "output_type": "stream",
     "text": [
      "Starting BERT training...\n",
      "\n",
      "Epoch 1/5\n"
     ]
    },
    {
     "name": "stderr",
     "output_type": "stream",
     "text": [
      "Training: 100%|██████████| 60/60 [00:58<00:00,  1.02it/s, loss=0.3772]\n",
      "Evaluating: 100%|██████████| 15/15 [00:05<00:00,  2.99it/s]\n"
     ]
    },
    {
     "name": "stdout",
     "output_type": "stream",
     "text": [
      "Train Loss: 0.4907\n",
      "Val Loss: 0.4048\n",
      "Micro F1: 0.8899\n",
      "Macro F1: 0.8838\n",
      "Hamming Loss: 0.1972\n",
      "New best model! Micro F1: 0.8899\n",
      "\n",
      "Epoch 2/5\n"
     ]
    },
    {
     "name": "stderr",
     "output_type": "stream",
     "text": [
      "Training: 100%|██████████| 60/60 [00:58<00:00,  1.03it/s, loss=0.2181]\n",
      "Evaluating: 100%|██████████| 15/15 [00:04<00:00,  3.05it/s]\n"
     ]
    },
    {
     "name": "stdout",
     "output_type": "stream",
     "text": [
      "Train Loss: 0.3928\n",
      "Val Loss: 0.3532\n",
      "Micro F1: 0.9056\n",
      "Macro F1: 0.8996\n",
      "Hamming Loss: 0.1639\n",
      "New best model! Micro F1: 0.9056\n",
      "\n",
      "Epoch 3/5\n"
     ]
    },
    {
     "name": "stderr",
     "output_type": "stream",
     "text": [
      "Training: 100%|██████████| 60/60 [00:58<00:00,  1.02it/s, loss=0.2836]\n",
      "Evaluating: 100%|██████████| 15/15 [00:04<00:00,  3.04it/s]\n"
     ]
    },
    {
     "name": "stdout",
     "output_type": "stream",
     "text": [
      "Train Loss: 0.3234\n",
      "Val Loss: 0.3353\n",
      "Micro F1: 0.9060\n",
      "Macro F1: 0.8956\n",
      "Hamming Loss: 0.1556\n",
      "New best model! Micro F1: 0.9060\n",
      "\n",
      "Epoch 4/5\n"
     ]
    },
    {
     "name": "stderr",
     "output_type": "stream",
     "text": [
      "Training: 100%|██████████| 60/60 [00:58<00:00,  1.02it/s, loss=0.2100]\n",
      "Evaluating: 100%|██████████| 15/15 [00:04<00:00,  3.06it/s]\n"
     ]
    },
    {
     "name": "stdout",
     "output_type": "stream",
     "text": [
      "Train Loss: 0.2541\n",
      "Val Loss: 0.3396\n",
      "Micro F1: 0.8959\n",
      "Macro F1: 0.8755\n",
      "Hamming Loss: 0.1639\n",
      "\n",
      "Epoch 5/5\n"
     ]
    },
    {
     "name": "stderr",
     "output_type": "stream",
     "text": [
      "Training: 100%|██████████| 60/60 [00:58<00:00,  1.02it/s, loss=0.3365]\n",
      "Evaluating: 100%|██████████| 15/15 [00:04<00:00,  3.08it/s]"
     ]
    },
    {
     "name": "stdout",
     "output_type": "stream",
     "text": [
      "Train Loss: 0.1991\n",
      "Val Loss: 0.3326\n",
      "Micro F1: 0.9147\n",
      "Macro F1: 0.9037\n",
      "Hamming Loss: 0.1389\n",
      "New best model! Micro F1: 0.9147\n",
      "\n",
      "Training completed!\n"
     ]
    },
    {
     "name": "stderr",
     "output_type": "stream",
     "text": [
      "\n"
     ]
    }
   ],
   "source": [
    "# Training loop\n",
    "print(\"Starting BERT training...\")\n",
    "train_losses = []\n",
    "val_losses = []\n",
    "best_f1 = 0\n",
    "best_model_state = None\n",
    "\n",
    "for epoch in range(EPOCHS):\n",
    "    print(f\"\\nEpoch {epoch + 1}/{EPOCHS}\")\n",
    "    \n",
    "    # Training\n",
    "    train_loss = train_epoch(model, train_loader, optimizer, scheduler, criterion, device)\n",
    "    train_losses.append(train_loss)\n",
    "    \n",
    "    # Evaluation\n",
    "    val_loss, predictions, labels = evaluate_model(model, test_loader, criterion, device)\n",
    "    val_losses.append(val_loss)\n",
    "    \n",
    "    # Calculate metrics\n",
    "    micro_f1 = f1_score(labels, predictions, average='micro')\n",
    "    macro_f1 = f1_score(labels, predictions, average='macro')\n",
    "    hamming_loss_score = hamming_loss(labels, predictions)\n",
    "    \n",
    "    print(f\"Train Loss: {train_loss:.4f}\")\n",
    "    print(f\"Val Loss: {val_loss:.4f}\")\n",
    "    print(f\"Micro F1: {micro_f1:.4f}\")\n",
    "    print(f\"Macro F1: {macro_f1:.4f}\")\n",
    "    print(f\"Hamming Loss: {hamming_loss_score:.4f}\")\n",
    "    \n",
    "    # Save best model\n",
    "    if micro_f1 > best_f1:\n",
    "        best_f1 = micro_f1\n",
    "        best_model_state = model.state_dict().copy()\n",
    "        print(f\"New best model! Micro F1: {best_f1:.4f}\")\n",
    "\n",
    "print(\"\\nTraining completed!\")"
   ]
  },
  {
   "cell_type": "code",
   "execution_count": 17,
   "metadata": {},
   "outputs": [
    {
     "name": "stdout",
     "output_type": "stream",
     "text": [
      "Loaded best model with Micro F1: 0.9147\n"
     ]
    },
    {
     "name": "stderr",
     "output_type": "stream",
     "text": [
      "Evaluating: 100%|██████████| 15/15 [00:04<00:00,  3.08it/s]"
     ]
    },
    {
     "name": "stdout",
     "output_type": "stream",
     "text": [
      "\n",
      "=== FINAL BERT MODEL RESULTS ===\n",
      "Micro F1: 0.9147\n",
      "Macro F1: 0.9037\n",
      "Weighted F1: 0.9154\n",
      "Hamming Loss: 0.1389\n",
      "\n",
      "=== PER-LABEL PERFORMANCE ===\n",
      "Efficacy:\n",
      "  F1: 0.9873\n",
      "  Precision: 0.9750\n",
      "  Recall: 1.0000\n",
      "  Support: 117.0\n",
      "Side_Effects:\n",
      "  F1: 0.8148\n",
      "  Precision: 0.7857\n",
      "  Recall: 0.8462\n",
      "  Support: 78.0\n",
      "Mechanism:\n",
      "  F1: 0.9091\n",
      "  Precision: 0.8947\n",
      "  Recall: 0.9239\n",
      "  Support: 92.0\n"
     ]
    },
    {
     "name": "stderr",
     "output_type": "stream",
     "text": [
      "\n"
     ]
    }
   ],
   "source": [
    "# Load best model and get final predictions\n",
    "if best_model_state is not None:\n",
    "    model.load_state_dict(best_model_state)\n",
    "    print(f\"Loaded best model with Micro F1: {best_f1:.4f}\")\n",
    "\n",
    "# Final evaluation\n",
    "final_loss, final_predictions, final_labels = evaluate_model(model, test_loader, criterion, device)\n",
    "\n",
    "# Calculate final metrics\n",
    "bert_micro_f1 = f1_score(final_labels, final_predictions, average='micro')\n",
    "bert_macro_f1 = f1_score(final_labels, final_predictions, average='macro')\n",
    "bert_weighted_f1 = f1_score(final_labels, final_predictions, average='weighted')\n",
    "bert_hamming_loss = hamming_loss(final_labels, final_predictions)\n",
    "\n",
    "print(\"\\n=== FINAL BERT MODEL RESULTS ===\")\n",
    "print(f\"Micro F1: {bert_micro_f1:.4f}\")\n",
    "print(f\"Macro F1: {bert_macro_f1:.4f}\")\n",
    "print(f\"Weighted F1: {bert_weighted_f1:.4f}\")\n",
    "print(f\"Hamming Loss: {bert_hamming_loss:.4f}\")\n",
    "\n",
    "# Per-label performance\n",
    "labels = ['Efficacy', 'Side_Effects', 'Mechanism']\n",
    "print(\"\\n=== PER-LABEL PERFORMANCE ===\")\n",
    "for i, label in enumerate(labels):\n",
    "    f1 = f1_score(final_labels[:, i], final_predictions[:, i], average='binary')\n",
    "    precision = precision_score(final_labels[:, i], final_predictions[:, i], average='binary')\n",
    "    recall = recall_score(final_labels[:, i], final_predictions[:, i], average='binary')\n",
    "    print(f\"{label}:\")\n",
    "    print(f\"  F1: {f1:.4f}\")\n",
    "    print(f\"  Precision: {precision:.4f}\")\n",
    "    print(f\"  Recall: {recall:.4f}\")\n",
    "    print(f\"  Support: {final_labels[:, i].sum()}\")"
   ]
  },
  {
   "cell_type": "code",
   "execution_count": 18,
   "metadata": {},
   "outputs": [
    {
     "name": "stdout",
     "output_type": "stream",
     "text": [
      "\n",
      "=== COMPARISON: BASELINE vs BERT ===\n",
      "Baseline Micro F1: 0.8806\n",
      "BERT Micro F1: 0.9147\n",
      "Improvement: 0.0341\n",
      "\n",
      "Baseline Macro F1: 0.8630\n",
      "BERT Macro F1: 0.9037\n",
      "Improvement: 0.0408\n",
      "\n",
      "Baseline Hamming Loss: 0.1861\n",
      "BERT Hamming Loss: 0.1389\n",
      "Improvement: 0.0472\n"
     ]
    }
   ],
   "source": [
    "# Load baseline results for comparison\n",
    "try:\n",
    "    with open('baseline_results.json', 'r') as f:\n",
    "        baseline_results = json.load(f)\n",
    "    \n",
    "    print(\"\\n=== COMPARISON: BASELINE vs BERT ===\")\n",
    "    print(f\"Baseline Micro F1: {baseline_results['micro_f1']:.4f}\")\n",
    "    print(f\"BERT Micro F1: {bert_micro_f1:.4f}\")\n",
    "    print(f\"Improvement: {bert_micro_f1 - baseline_results['micro_f1']:.4f}\")\n",
    "    \n",
    "    print(f\"\\nBaseline Macro F1: {baseline_results['macro_f1']:.4f}\")\n",
    "    print(f\"BERT Macro F1: {bert_macro_f1:.4f}\")\n",
    "    print(f\"Improvement: {bert_macro_f1 - baseline_results['macro_f1']:.4f}\")\n",
    "    \n",
    "    print(f\"\\nBaseline Hamming Loss: {baseline_results['hamming_loss']:.4f}\")\n",
    "    print(f\"BERT Hamming Loss: {bert_hamming_loss:.4f}\")\n",
    "    print(f\"Improvement: {baseline_results['hamming_loss'] - bert_hamming_loss:.4f}\")\n",
    "    \n",
    "except FileNotFoundError:\n",
    "    print(\"Baseline results not found. Run baseline model first for comparison.\")"
   ]
  },
  {
   "cell_type": "code",
   "execution_count": 19,
   "metadata": {},
   "outputs": [
    {
     "data": {
      "image/png": "[encoded data removed]",
      "text/plain": [
       "<Figure size 1500x500 with 2 Axes>"
      ]
     },
     "metadata": {},
     "output_type": "display_data"
    }
   ],
   "source": [
    "# Visualize results\n",
    "fig, axes = plt.subplots(1, 2, figsize=(15, 5))\n",
    "\n",
    "# Per-label F1 scores\n",
    "label_f1_scores = []\n",
    "for i, label in enumerate(labels):\n",
    "    f1 = f1_score(final_labels[:, i], final_predictions[:, i], average='binary')\n",
    "    label_f1_scores.append(f1)\n",
    "\n",
    "axes[0].bar(labels, label_f1_scores, color=['skyblue', 'lightgreen', 'lightcoral'])\n",
    "axes[0].set_title('BERT F1 Score by Label')\n",
    "axes[0].set_ylabel('F1 Score')\n",
    "axes[0].set_ylim(0, 1)\n",
    "for i, v in enumerate(label_f1_scores):\n",
    "    axes[0].text(i, v + 0.01, f'{v:.3f}', ha='center')\n",
    "\n",
    "# Training curves\n",
    "axes[1].plot(train_losses, label='Training Loss', color='blue')\n",
    "axes[1].plot(val_losses, label='Validation Loss', color='red')\n",
    "axes[1].set_title('Training Curves')\n",
    "axes[1].set_xlabel('Epoch')\n",
    "axes[1].set_ylabel('Loss')\n",
    "axes[1].legend()\n",
    "axes[1].grid(True, alpha=0.3)\n",
    "\n",
    "plt.tight_layout()\n",
    "plt.show()"
   ]
  },
  {
   "cell_type": "code",
   "execution_count": 20,
   "metadata": {},
   "outputs": [
    {
     "name": "stderr",
     "output_type": "stream",
     "text": [
      "BertSdpaSelfAttention is used but `torch.nn.functional.scaled_dot_product_attention` does not support non-absolute `position_embedding_type` or `output_attentions=True` or `head_mask`. Falling back to the manual attention implementation, but specifying the manual implementation will be required from Transformers version v5.0.0 onwards. This warning can be removed using the argument `attn_implementation=\"eager\"` when loading the model.\n"
     ]
    },
    {
     "name": "stdout",
     "output_type": "stream",
     "text": [
      "Sample text: sod1 mutation significant contributor familial amyotrophic lateral sclerosis als case sod1 mutation increase propensity protein misfold aggregate insoluble proteinaceous deposit motor neuron neighbour...\n",
      "Sample drug feature: 0\n",
      "\n",
      "Predicted probabilities: [0.97934455 0.9177684  0.8802244 ]\n",
      "True labels: [1 1 1]\n"
     ]
    }
   ],
   "source": [
    "# Attention weight analysis (optional - for interpretability)\n",
    "def get_attention_weights(model, tokenizer, text, drug_feature=0):\n",
    "    \"\"\"Get attention weights for a given text\"\"\"\n",
    "    model.eval()\n",
    "    \n",
    "    # Tokenize\n",
    "    encoding = tokenizer(\n",
    "        text,\n",
    "        truncation=True,\n",
    "        padding='max_length',\n",
    "        max_length=MAX_LENGTH,\n",
    "        return_tensors='pt'\n",
    "    )\n",
    "    \n",
    "    input_ids = encoding['input_ids'].to(device)\n",
    "    attention_mask = encoding['attention_mask'].to(device)\n",
    "    drug_feature_tensor = torch.FloatTensor([[drug_feature]]).to(device)\n",
    "    \n",
    "    with torch.no_grad():\n",
    "        # Get BERT outputs with attention\n",
    "        outputs = model.bert(input_ids=input_ids, attention_mask=attention_mask, output_attentions=True)\n",
    "        attention = outputs.attentions[-1]  # Last layer attention\n",
    "        \n",
    "        # Get predictions\n",
    "        logits = model(input_ids=input_ids, attention_mask=attention_mask, drug_feature=drug_feature_tensor)\n",
    "        probs = torch.sigmoid(logits)\n",
    "        \n",
    "    return attention, probs, input_ids\n",
    "\n",
    "# Example attention analysis\n",
    "sample_text = X_text_test.iloc[0]\n",
    "sample_drug = X_drug_test[0]\n",
    "\n",
    "print(f\"Sample text: {sample_text[:200]}...\")\n",
    "print(f\"Sample drug feature: {sample_drug}\")\n",
    "\n",
    "attention, probs, input_ids = get_attention_weights(model, tokenizer, sample_text, sample_drug)\n",
    "print(f\"\\nPredicted probabilities: {probs.cpu().numpy().flatten()}\")\n",
    "print(f\"True labels: {y_test[0]}\")"
   ]
  },
  {
   "cell_type": "code",
   "execution_count": 21,
   "metadata": {},
   "outputs": [
    {
     "name": "stdout",
     "output_type": "stream",
     "text": [
      "BERT model and results saved successfully!\n",
      "Results saved as: bert_results.json\n",
      "Model saved as: bert_model.pth\n"
     ]
    }
   ],
   "source": [
    "# Save the model and results\n",
    "bert_results = {\n",
    "    'model_name': MODEL_NAME,\n",
    "    'micro_f1': bert_micro_f1,\n",
    "    'macro_f1': bert_macro_f1,\n",
    "    'weighted_f1': bert_weighted_f1,\n",
    "    'hamming_loss': bert_hamming_loss,\n",
    "    'per_label_f1': dict(zip(labels, label_f1_scores)),\n",
    "    'training_config': {\n",
    "        'learning_rate': LEARNING_RATE,\n",
    "        'epochs': EPOCHS,\n",
    "        'batch_size': BATCH_SIZE,\n",
    "        'max_length': MAX_LENGTH,\n",
    "        'warmup_steps': WARMUP_STEPS\n",
    "    }\n",
    "}\n",
    "\n",
    "# Save results\n",
    "with open('bert_results.json', 'w') as f:\n",
    "    json.dump(bert_results, f, indent=2)\n",
    "\n",
    "# Save model (optional - can be large)\n",
    "torch.save({\n",
    "    'model_state_dict': model.state_dict(),\n",
    "    'tokenizer': tokenizer,\n",
    "    'model_config': bert_model.config,\n",
    "    'results': bert_results\n",
    "}, 'bert_model.pth')\n",
    "\n",
    "print(\"BERT model and results saved successfully!\")\n",
    "print(f\"Results saved as: bert_results.json\")\n",
    "print(f\"Model saved as: bert_model.pth\")"
   ]
  },
  {
   "cell_type": "markdown",
   "metadata": {},
   "source": [
    "## Summary\n",
    "\n",
    "This BERT-based model should provide significant improvements over the baseline TF-IDF approach:\n",
    "\n",
    "### Key Advantages:\n",
    "1. **Better text understanding** - BERT can capture complex semantic relationships\n",
    "2. **Domain-specific pre-training** - PubMedBERT is trained on biomedical literature\n",
    "3. **Attention mechanism** - Can identify which parts of text are most important\n",
    "4. **Contextual embeddings** - Words have different meanings based on context\n",
    "\n",
    "### Expected Improvements:\n",
    "- **F1 scores should be 0.90+** for most labels\n",
    "- **Better handling of medical terminology**\n",
    "- **More interpretable results** through attention weights\n",
    "\n",
    "### Next Steps:\n",
    "1. **Hyperparameter tuning** - Try different learning rates, batch sizes, etc.\n",
    "2. **Model ensemble** - Combine BERT with baseline features\n",
    "3. **Advanced techniques** - Focal loss, label smoothing, etc.\n",
    "4. **Feature engineering** - Add more structured features\n",
    "\n",
    "### Model Comparison:\n",
    "Compare the results with your baseline model to see the improvement!"
   ]
  }
 ],
 "metadata": {
  "kernelspec": {
   "display_name": "venv",
   "language": "python",
   "name": "python3"
  },
  "language_info": {
   "codemirror_mode": {
    "name": "ipython",
    "version": 3
   },
   "file_extension": ".py",
   "mimetype": "text/x-python",
   "name": "python",
   "nbconvert_exporter": "python",
   "pygments_lexer": "ipython3",
   "version": "3.12.3"
  }
 },
 "nbformat": 4,
 "nbformat_minor": 4
}
